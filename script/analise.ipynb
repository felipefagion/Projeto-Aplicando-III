{
 "cells": [
  {
   "cell_type": "code",
   "execution_count": 2,
   "id": "4fa939ce",
   "metadata": {},
   "outputs": [],
   "source": [
    "# -----------------------\n",
    "# Manipulação de Dados\n",
    "# -----------------------\n",
    "import numpy as np  # Cálculos numéricos e arrays.\n",
    "import pandas as pd  # Manipulação de dados em tabelas (DataFrames).\n",
    "\n",
    "\n",
    "pd.set_option('display.max_columns', None)  # Exibe todas as colunas do DataFrame.\n",
    "\n",
    "\n",
    "# -----------------------\n",
    "# Visualização de Dados\n",
    "# -----------------------\n",
    "import matplotlib.pyplot as plt  # Criação de gráficos estáticos.\n",
    "import seaborn as sns  # Gráficos estatísticos bonitos e informativos.\n",
    "import plotly.express as px  # Gráficos interativos.\n",
    "\n",
    "# -----------------------\n",
    "# Configurações\n",
    "# -----------------------\n",
    "import warnings  # Gerencia mensagens de alerta.\n",
    "warnings.filterwarnings(\"ignore\")  # Ignora os avisos."
   ]
  },
  {
   "cell_type": "code",
   "execution_count": 12,
   "id": "ab70788d",
   "metadata": {},
   "outputs": [],
   "source": [
    "# Importar Bases\n",
    "df_users = pd.read_csv('../arquivos/Users.csv', sep=';')\n",
    "df_ratings = pd.read_csv('../arquivos/Books.csv', sep=';')\n",
    "df_ratings = pd.read_csv('../arquivos/Ratings.csv', sep=';')"
   ]
  }
 ],
 "metadata": {
  "kernelspec": {
   "display_name": "base",
   "language": "python",
   "name": "python3"
  },
  "language_info": {
   "codemirror_mode": {
    "name": "ipython",
    "version": 3
   },
   "file_extension": ".py",
   "mimetype": "text/x-python",
   "name": "python",
   "nbconvert_exporter": "python",
   "pygments_lexer": "ipython3",
   "version": "3.12.7"
  }
 },
 "nbformat": 4,
 "nbformat_minor": 5
}
